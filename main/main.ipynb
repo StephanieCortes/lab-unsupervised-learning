{
  "nbformat": 4,
  "nbformat_minor": 0,
  "metadata": {
    "kernelspec": {
      "display_name": "Python 3",
      "language": "python",
      "name": "python3"
    },
    "language_info": {
      "codemirror_mode": {
        "name": "ipython",
        "version": 3
      },
      "file_extension": ".py",
      "mimetype": "text/x-python",
      "name": "python",
      "nbconvert_exporter": "python",
      "pygments_lexer": "ipython3",
      "version": "3.7.3"
    },
    "colab": {
      "name": "main.ipynb",
      "provenance": []
    }
  },
  "cells": [
    {
      "cell_type": "markdown",
      "metadata": {
        "id": "KHOLz6jemIEx"
      },
      "source": [
        "# Before your start:\n",
        "- Read the README.md file\n",
        "- Comment as much as you can and use the resources in the README.md file\n",
        "- Happy learning!"
      ]
    },
    {
      "cell_type": "code",
      "metadata": {
        "id": "UA8PU9kMmIE2"
      },
      "source": [
        "# Import your libraries:\n",
        "\n",
        "%matplotlib inline\n",
        "\n",
        "import matplotlib.pyplot as plt\n",
        "import numpy as np\n",
        "import pandas as pd\n",
        "import seaborn as sns"
      ],
      "execution_count": 38,
      "outputs": []
    },
    {
      "cell_type": "markdown",
      "metadata": {
        "id": "tC0WMLHvmIE3"
      },
      "source": [
        "# Challenge 1 - Import and Describe the Dataset\n",
        "\n",
        "In this lab, we will use a dataset containing information about customer preferences. We will look at how much each customer spends in a year on each subcategory in the grocery store and try to find similarities using clustering.\n",
        "\n",
        "The origin of the dataset is [here](https://archive.ics.uci.edu/ml/datasets/wholesale+customers)."
      ]
    },
    {
      "cell_type": "code",
      "metadata": {
        "id": "csBbTQSzmNKq"
      },
      "source": [
        ""
      ],
      "execution_count": 38,
      "outputs": []
    },
    {
      "cell_type": "code",
      "metadata": {
        "colab": {
          "base_uri": "https://localhost:8080/"
        },
        "id": "qfHwHg6xmNRX",
        "outputId": "f8775528-1f59-44e3-e9b4-6d3f044c45b8"
      },
      "source": [
        "from google.colab import drive\n",
        "drive.mount('/content/drive')"
      ],
      "execution_count": 39,
      "outputs": [
        {
          "output_type": "stream",
          "text": [
            "Drive already mounted at /content/drive; to attempt to forcibly remount, call drive.mount(\"/content/drive\", force_remount=True).\n"
          ],
          "name": "stdout"
        }
      ]
    },
    {
      "cell_type": "markdown",
      "metadata": {
        "id": "77hhyCcRmIE4"
      },
      "source": [
        "#### Explore the dataset with mathematical and visualization techniques. What do you find?\n",
        "\n",
        "Checklist:\n",
        "\n",
        "* What does each column mean?\n",
        "* Any categorical data to convert?\n",
        "* Any missing data to remove?\n",
        "* Column collinearity - any high correlations?\n",
        "* Descriptive statistics - any outliers to remove?\n",
        "* Column-wise data distribution - is the distribution skewed?\n",
        "* Etc.\n",
        "\n",
        "Additional info: Over a century ago, an Italian economist named Vilfredo Pareto discovered that roughly 20% of the customers account for 80% of the typical retail sales. This is called the [Pareto principle](https://en.wikipedia.org/wiki/Pareto_principle). Check if this dataset displays this characteristic."
      ]
    },
    {
      "cell_type": "code",
      "metadata": {
        "colab": {
          "base_uri": "https://localhost:8080/",
          "height": 204
        },
        "id": "rFV9rql7mIE3",
        "outputId": "aa64a5fd-03ac-48a6-8b5c-3cb5acad5018"
      },
      "source": [
        "# loading the data:\n",
        "customers = pd.read_csv('/content/drive/MyDrive/IRONHACK/Wholesale customers data.csv')\n",
        "\n",
        "customers.head()"
      ],
      "execution_count": 40,
      "outputs": [
        {
          "output_type": "execute_result",
          "data": {
            "text/html": [
              "<div>\n",
              "<style scoped>\n",
              "    .dataframe tbody tr th:only-of-type {\n",
              "        vertical-align: middle;\n",
              "    }\n",
              "\n",
              "    .dataframe tbody tr th {\n",
              "        vertical-align: top;\n",
              "    }\n",
              "\n",
              "    .dataframe thead th {\n",
              "        text-align: right;\n",
              "    }\n",
              "</style>\n",
              "<table border=\"1\" class=\"dataframe\">\n",
              "  <thead>\n",
              "    <tr style=\"text-align: right;\">\n",
              "      <th></th>\n",
              "      <th>Channel</th>\n",
              "      <th>Region</th>\n",
              "      <th>Fresh</th>\n",
              "      <th>Milk</th>\n",
              "      <th>Grocery</th>\n",
              "      <th>Frozen</th>\n",
              "      <th>Detergents_Paper</th>\n",
              "      <th>Delicassen</th>\n",
              "    </tr>\n",
              "  </thead>\n",
              "  <tbody>\n",
              "    <tr>\n",
              "      <th>0</th>\n",
              "      <td>2</td>\n",
              "      <td>3</td>\n",
              "      <td>12669</td>\n",
              "      <td>9656</td>\n",
              "      <td>7561</td>\n",
              "      <td>214</td>\n",
              "      <td>2674</td>\n",
              "      <td>1338</td>\n",
              "    </tr>\n",
              "    <tr>\n",
              "      <th>1</th>\n",
              "      <td>2</td>\n",
              "      <td>3</td>\n",
              "      <td>7057</td>\n",
              "      <td>9810</td>\n",
              "      <td>9568</td>\n",
              "      <td>1762</td>\n",
              "      <td>3293</td>\n",
              "      <td>1776</td>\n",
              "    </tr>\n",
              "    <tr>\n",
              "      <th>2</th>\n",
              "      <td>2</td>\n",
              "      <td>3</td>\n",
              "      <td>6353</td>\n",
              "      <td>8808</td>\n",
              "      <td>7684</td>\n",
              "      <td>2405</td>\n",
              "      <td>3516</td>\n",
              "      <td>7844</td>\n",
              "    </tr>\n",
              "    <tr>\n",
              "      <th>3</th>\n",
              "      <td>1</td>\n",
              "      <td>3</td>\n",
              "      <td>13265</td>\n",
              "      <td>1196</td>\n",
              "      <td>4221</td>\n",
              "      <td>6404</td>\n",
              "      <td>507</td>\n",
              "      <td>1788</td>\n",
              "    </tr>\n",
              "    <tr>\n",
              "      <th>4</th>\n",
              "      <td>2</td>\n",
              "      <td>3</td>\n",
              "      <td>22615</td>\n",
              "      <td>5410</td>\n",
              "      <td>7198</td>\n",
              "      <td>3915</td>\n",
              "      <td>1777</td>\n",
              "      <td>5185</td>\n",
              "    </tr>\n",
              "  </tbody>\n",
              "</table>\n",
              "</div>"
            ],
            "text/plain": [
              "   Channel  Region  Fresh  Milk  Grocery  Frozen  Detergents_Paper  Delicassen\n",
              "0        2       3  12669  9656     7561     214              2674        1338\n",
              "1        2       3   7057  9810     9568    1762              3293        1776\n",
              "2        2       3   6353  8808     7684    2405              3516        7844\n",
              "3        1       3  13265  1196     4221    6404               507        1788\n",
              "4        2       3  22615  5410     7198    3915              1777        5185"
            ]
          },
          "metadata": {
            "tags": []
          },
          "execution_count": 40
        }
      ]
    },
    {
      "cell_type": "code",
      "metadata": {
        "colab": {
          "base_uri": "https://localhost:8080/"
        },
        "id": "Vg_-Wckcm1D7",
        "outputId": "7c007344-22c8-4c45-b949-ceb64b2ce14e"
      },
      "source": [
        "customers.dtypes"
      ],
      "execution_count": 41,
      "outputs": [
        {
          "output_type": "execute_result",
          "data": {
            "text/plain": [
              "Channel             int64\n",
              "Region              int64\n",
              "Fresh               int64\n",
              "Milk                int64\n",
              "Grocery             int64\n",
              "Frozen              int64\n",
              "Detergents_Paper    int64\n",
              "Delicassen          int64\n",
              "dtype: object"
            ]
          },
          "metadata": {
            "tags": []
          },
          "execution_count": 41
        }
      ]
    },
    {
      "cell_type": "code",
      "metadata": {
        "colab": {
          "base_uri": "https://localhost:8080/"
        },
        "id": "_F9Ddc7xm2x5",
        "outputId": "cd91dfb0-f35a-4089-c587-97db319bb7e0"
      },
      "source": [
        "customers.isnull().sum()"
      ],
      "execution_count": 42,
      "outputs": [
        {
          "output_type": "execute_result",
          "data": {
            "text/plain": [
              "Channel             0\n",
              "Region              0\n",
              "Fresh               0\n",
              "Milk                0\n",
              "Grocery             0\n",
              "Frozen              0\n",
              "Detergents_Paper    0\n",
              "Delicassen          0\n",
              "dtype: int64"
            ]
          },
          "metadata": {
            "tags": []
          },
          "execution_count": 42
        }
      ]
    },
    {
      "cell_type": "code",
      "metadata": {
        "colab": {
          "base_uri": "https://localhost:8080/"
        },
        "id": "PGY5bd9Om4k6",
        "outputId": "a69a4cde-bc52-4a53-f857-3e22eabc094a"
      },
      "source": [
        "\n",
        "for i in customers.columns.to_list():\n",
        "    print(i, '\\n', customers[i].value_counts())"
      ],
      "execution_count": 43,
      "outputs": [
        {
          "output_type": "stream",
          "text": [
            "Channel \n",
            " 1    298\n",
            "2    142\n",
            "Name: Channel, dtype: int64\n",
            "Region \n",
            " 3    316\n",
            "1     77\n",
            "2     47\n",
            "Name: Region, dtype: int64\n",
            "Fresh \n",
            " 9670     2\n",
            "3        2\n",
            "8040     2\n",
            "514      2\n",
            "18044    2\n",
            "        ..\n",
            "8885     1\n",
            "694      1\n",
            "7864     1\n",
            "1725     1\n",
            "4098     1\n",
            "Name: Fresh, Length: 433, dtype: int64\n",
            "Milk \n",
            " 1897     2\n",
            "5139     2\n",
            "659      2\n",
            "829      2\n",
            "944      2\n",
            "        ..\n",
            "7845     1\n",
            "3748     1\n",
            "13316    1\n",
            "28326    1\n",
            "20484    1\n",
            "Name: Milk, Length: 421, dtype: int64\n",
            "Grocery \n",
            " 1664    2\n",
            "2405    2\n",
            "1493    2\n",
            "1563    2\n",
            "3600    2\n",
            "       ..\n",
            "582     1\n",
            "2469    1\n",
            "3779    1\n",
            "1733    1\n",
            "3       1\n",
            "Name: Grocery, Length: 430, dtype: int64\n",
            "Frozen \n",
            " 744     2\n",
            "779     2\n",
            "1619    2\n",
            "364     2\n",
            "848     2\n",
            "       ..\n",
            "660     1\n",
            "661     1\n",
            "662     1\n",
            "666     1\n",
            "1026    1\n",
            "Name: Frozen, Length: 426, dtype: int64\n",
            "Detergents_Paper \n",
            " 227      2\n",
            "311      2\n",
            "118      2\n",
            "811      2\n",
            "788      2\n",
            "        ..\n",
            "610      1\n",
            "2662     1\n",
            "24171    1\n",
            "9836     1\n",
            "5121     1\n",
            "Name: Detergents_Paper, Length: 417, dtype: int64\n",
            "Delicassen \n",
            " 834     4\n",
            "3       4\n",
            "548     3\n",
            "1215    3\n",
            "395     3\n",
            "       ..\n",
            "1647    1\n",
            "433     1\n",
            "1653    1\n",
            "635     1\n",
            "5120    1\n",
            "Name: Delicassen, Length: 403, dtype: int64\n"
          ],
          "name": "stdout"
        }
      ]
    },
    {
      "cell_type": "code",
      "metadata": {
        "colab": {
          "base_uri": "https://localhost:8080/",
          "height": 297
        },
        "id": "ZdJySQRYm7Jq",
        "outputId": "a097fb34-7ef6-4343-a2fc-20fd93a24dfb"
      },
      "source": [
        "customers.corr()"
      ],
      "execution_count": 44,
      "outputs": [
        {
          "output_type": "execute_result",
          "data": {
            "text/html": [
              "<div>\n",
              "<style scoped>\n",
              "    .dataframe tbody tr th:only-of-type {\n",
              "        vertical-align: middle;\n",
              "    }\n",
              "\n",
              "    .dataframe tbody tr th {\n",
              "        vertical-align: top;\n",
              "    }\n",
              "\n",
              "    .dataframe thead th {\n",
              "        text-align: right;\n",
              "    }\n",
              "</style>\n",
              "<table border=\"1\" class=\"dataframe\">\n",
              "  <thead>\n",
              "    <tr style=\"text-align: right;\">\n",
              "      <th></th>\n",
              "      <th>Channel</th>\n",
              "      <th>Region</th>\n",
              "      <th>Fresh</th>\n",
              "      <th>Milk</th>\n",
              "      <th>Grocery</th>\n",
              "      <th>Frozen</th>\n",
              "      <th>Detergents_Paper</th>\n",
              "      <th>Delicassen</th>\n",
              "    </tr>\n",
              "  </thead>\n",
              "  <tbody>\n",
              "    <tr>\n",
              "      <th>Channel</th>\n",
              "      <td>1.000000</td>\n",
              "      <td>0.062028</td>\n",
              "      <td>-0.169172</td>\n",
              "      <td>0.460720</td>\n",
              "      <td>0.608792</td>\n",
              "      <td>-0.202046</td>\n",
              "      <td>0.636026</td>\n",
              "      <td>0.056011</td>\n",
              "    </tr>\n",
              "    <tr>\n",
              "      <th>Region</th>\n",
              "      <td>0.062028</td>\n",
              "      <td>1.000000</td>\n",
              "      <td>0.055287</td>\n",
              "      <td>0.032288</td>\n",
              "      <td>0.007696</td>\n",
              "      <td>-0.021044</td>\n",
              "      <td>-0.001483</td>\n",
              "      <td>0.045212</td>\n",
              "    </tr>\n",
              "    <tr>\n",
              "      <th>Fresh</th>\n",
              "      <td>-0.169172</td>\n",
              "      <td>0.055287</td>\n",
              "      <td>1.000000</td>\n",
              "      <td>0.100510</td>\n",
              "      <td>-0.011854</td>\n",
              "      <td>0.345881</td>\n",
              "      <td>-0.101953</td>\n",
              "      <td>0.244690</td>\n",
              "    </tr>\n",
              "    <tr>\n",
              "      <th>Milk</th>\n",
              "      <td>0.460720</td>\n",
              "      <td>0.032288</td>\n",
              "      <td>0.100510</td>\n",
              "      <td>1.000000</td>\n",
              "      <td>0.728335</td>\n",
              "      <td>0.123994</td>\n",
              "      <td>0.661816</td>\n",
              "      <td>0.406368</td>\n",
              "    </tr>\n",
              "    <tr>\n",
              "      <th>Grocery</th>\n",
              "      <td>0.608792</td>\n",
              "      <td>0.007696</td>\n",
              "      <td>-0.011854</td>\n",
              "      <td>0.728335</td>\n",
              "      <td>1.000000</td>\n",
              "      <td>-0.040193</td>\n",
              "      <td>0.924641</td>\n",
              "      <td>0.205497</td>\n",
              "    </tr>\n",
              "    <tr>\n",
              "      <th>Frozen</th>\n",
              "      <td>-0.202046</td>\n",
              "      <td>-0.021044</td>\n",
              "      <td>0.345881</td>\n",
              "      <td>0.123994</td>\n",
              "      <td>-0.040193</td>\n",
              "      <td>1.000000</td>\n",
              "      <td>-0.131525</td>\n",
              "      <td>0.390947</td>\n",
              "    </tr>\n",
              "    <tr>\n",
              "      <th>Detergents_Paper</th>\n",
              "      <td>0.636026</td>\n",
              "      <td>-0.001483</td>\n",
              "      <td>-0.101953</td>\n",
              "      <td>0.661816</td>\n",
              "      <td>0.924641</td>\n",
              "      <td>-0.131525</td>\n",
              "      <td>1.000000</td>\n",
              "      <td>0.069291</td>\n",
              "    </tr>\n",
              "    <tr>\n",
              "      <th>Delicassen</th>\n",
              "      <td>0.056011</td>\n",
              "      <td>0.045212</td>\n",
              "      <td>0.244690</td>\n",
              "      <td>0.406368</td>\n",
              "      <td>0.205497</td>\n",
              "      <td>0.390947</td>\n",
              "      <td>0.069291</td>\n",
              "      <td>1.000000</td>\n",
              "    </tr>\n",
              "  </tbody>\n",
              "</table>\n",
              "</div>"
            ],
            "text/plain": [
              "                   Channel    Region  ...  Detergents_Paper  Delicassen\n",
              "Channel           1.000000  0.062028  ...          0.636026    0.056011\n",
              "Region            0.062028  1.000000  ...         -0.001483    0.045212\n",
              "Fresh            -0.169172  0.055287  ...         -0.101953    0.244690\n",
              "Milk              0.460720  0.032288  ...          0.661816    0.406368\n",
              "Grocery           0.608792  0.007696  ...          0.924641    0.205497\n",
              "Frozen           -0.202046 -0.021044  ...         -0.131525    0.390947\n",
              "Detergents_Paper  0.636026 -0.001483  ...          1.000000    0.069291\n",
              "Delicassen        0.056011  0.045212  ...          0.069291    1.000000\n",
              "\n",
              "[8 rows x 8 columns]"
            ]
          },
          "metadata": {
            "tags": []
          },
          "execution_count": 44
        }
      ]
    },
    {
      "cell_type": "code",
      "metadata": {
        "colab": {
          "base_uri": "https://localhost:8080/",
          "height": 297
        },
        "id": "JepBA5ORm7sx",
        "outputId": "1ce5ab5a-0546-4297-c48a-84ddcef9b0c9"
      },
      "source": [
        "\n",
        "# Your code here:\n",
        "\n",
        "customers.describe().T"
      ],
      "execution_count": 45,
      "outputs": [
        {
          "output_type": "execute_result",
          "data": {
            "text/html": [
              "<div>\n",
              "<style scoped>\n",
              "    .dataframe tbody tr th:only-of-type {\n",
              "        vertical-align: middle;\n",
              "    }\n",
              "\n",
              "    .dataframe tbody tr th {\n",
              "        vertical-align: top;\n",
              "    }\n",
              "\n",
              "    .dataframe thead th {\n",
              "        text-align: right;\n",
              "    }\n",
              "</style>\n",
              "<table border=\"1\" class=\"dataframe\">\n",
              "  <thead>\n",
              "    <tr style=\"text-align: right;\">\n",
              "      <th></th>\n",
              "      <th>count</th>\n",
              "      <th>mean</th>\n",
              "      <th>std</th>\n",
              "      <th>min</th>\n",
              "      <th>25%</th>\n",
              "      <th>50%</th>\n",
              "      <th>75%</th>\n",
              "      <th>max</th>\n",
              "    </tr>\n",
              "  </thead>\n",
              "  <tbody>\n",
              "    <tr>\n",
              "      <th>Channel</th>\n",
              "      <td>440.0</td>\n",
              "      <td>1.322727</td>\n",
              "      <td>0.468052</td>\n",
              "      <td>1.0</td>\n",
              "      <td>1.00</td>\n",
              "      <td>1.0</td>\n",
              "      <td>2.00</td>\n",
              "      <td>2.0</td>\n",
              "    </tr>\n",
              "    <tr>\n",
              "      <th>Region</th>\n",
              "      <td>440.0</td>\n",
              "      <td>2.543182</td>\n",
              "      <td>0.774272</td>\n",
              "      <td>1.0</td>\n",
              "      <td>2.00</td>\n",
              "      <td>3.0</td>\n",
              "      <td>3.00</td>\n",
              "      <td>3.0</td>\n",
              "    </tr>\n",
              "    <tr>\n",
              "      <th>Fresh</th>\n",
              "      <td>440.0</td>\n",
              "      <td>12000.297727</td>\n",
              "      <td>12647.328865</td>\n",
              "      <td>3.0</td>\n",
              "      <td>3127.75</td>\n",
              "      <td>8504.0</td>\n",
              "      <td>16933.75</td>\n",
              "      <td>112151.0</td>\n",
              "    </tr>\n",
              "    <tr>\n",
              "      <th>Milk</th>\n",
              "      <td>440.0</td>\n",
              "      <td>5796.265909</td>\n",
              "      <td>7380.377175</td>\n",
              "      <td>55.0</td>\n",
              "      <td>1533.00</td>\n",
              "      <td>3627.0</td>\n",
              "      <td>7190.25</td>\n",
              "      <td>73498.0</td>\n",
              "    </tr>\n",
              "    <tr>\n",
              "      <th>Grocery</th>\n",
              "      <td>440.0</td>\n",
              "      <td>7951.277273</td>\n",
              "      <td>9503.162829</td>\n",
              "      <td>3.0</td>\n",
              "      <td>2153.00</td>\n",
              "      <td>4755.5</td>\n",
              "      <td>10655.75</td>\n",
              "      <td>92780.0</td>\n",
              "    </tr>\n",
              "    <tr>\n",
              "      <th>Frozen</th>\n",
              "      <td>440.0</td>\n",
              "      <td>3071.931818</td>\n",
              "      <td>4854.673333</td>\n",
              "      <td>25.0</td>\n",
              "      <td>742.25</td>\n",
              "      <td>1526.0</td>\n",
              "      <td>3554.25</td>\n",
              "      <td>60869.0</td>\n",
              "    </tr>\n",
              "    <tr>\n",
              "      <th>Detergents_Paper</th>\n",
              "      <td>440.0</td>\n",
              "      <td>2881.493182</td>\n",
              "      <td>4767.854448</td>\n",
              "      <td>3.0</td>\n",
              "      <td>256.75</td>\n",
              "      <td>816.5</td>\n",
              "      <td>3922.00</td>\n",
              "      <td>40827.0</td>\n",
              "    </tr>\n",
              "    <tr>\n",
              "      <th>Delicassen</th>\n",
              "      <td>440.0</td>\n",
              "      <td>1524.870455</td>\n",
              "      <td>2820.105937</td>\n",
              "      <td>3.0</td>\n",
              "      <td>408.25</td>\n",
              "      <td>965.5</td>\n",
              "      <td>1820.25</td>\n",
              "      <td>47943.0</td>\n",
              "    </tr>\n",
              "  </tbody>\n",
              "</table>\n",
              "</div>"
            ],
            "text/plain": [
              "                  count          mean           std  ...     50%       75%       max\n",
              "Channel           440.0      1.322727      0.468052  ...     1.0      2.00       2.0\n",
              "Region            440.0      2.543182      0.774272  ...     3.0      3.00       3.0\n",
              "Fresh             440.0  12000.297727  12647.328865  ...  8504.0  16933.75  112151.0\n",
              "Milk              440.0   5796.265909   7380.377175  ...  3627.0   7190.25   73498.0\n",
              "Grocery           440.0   7951.277273   9503.162829  ...  4755.5  10655.75   92780.0\n",
              "Frozen            440.0   3071.931818   4854.673333  ...  1526.0   3554.25   60869.0\n",
              "Detergents_Paper  440.0   2881.493182   4767.854448  ...   816.5   3922.00   40827.0\n",
              "Delicassen        440.0   1524.870455   2820.105937  ...   965.5   1820.25   47943.0\n",
              "\n",
              "[8 rows x 8 columns]"
            ]
          },
          "metadata": {
            "tags": []
          },
          "execution_count": 45
        }
      ]
    },
    {
      "cell_type": "code",
      "metadata": {
        "colab": {
          "base_uri": "https://localhost:8080/",
          "height": 729
        },
        "id": "-okzag74mIE4",
        "outputId": "d7270de0-4bb4-4030-f55c-92656476a1c6"
      },
      "source": [
        "# Your code here:\n",
        "\n",
        "sns.displot(customers, x = 'Fresh', col='Region', row= 'Channel');\n"
      ],
      "execution_count": 46,
      "outputs": [
        {
          "output_type": "display_data",
          "data": {
            "image/png": "[encoded data removed]",
            "text/plain": [
              "<Figure size 1080x720 with 6 Axes>"
            ]
          },
          "metadata": {
            "tags": [],
            "needs_background": "light"
          }
        }
      ]
    },
    {
      "cell_type": "code",
      "metadata": {
        "colab": {
          "base_uri": "https://localhost:8080/",
          "height": 729
        },
        "id": "BG-j0RvRnFyq",
        "outputId": "55cbd442-a042-4fe0-81ae-e4bcf7f97db7"
      },
      "source": [
        "sns.displot(customers, x = 'Milk', col='Region', row= 'Channel');"
      ],
      "execution_count": 47,
      "outputs": [
        {
          "output_type": "display_data",
          "data": {
            "image/png": "[encoded data removed]",
            "text/plain": [
              "<Figure size 1080x720 with 6 Axes>"
            ]
          },
          "metadata": {
            "tags": [],
            "needs_background": "light"
          }
        }
      ]
    },
    {
      "cell_type": "code",
      "metadata": {
        "colab": {
          "base_uri": "https://localhost:8080/",
          "height": 729
        },
        "id": "B_law-JdnYgS",
        "outputId": "91c16cf0-f0ef-457b-f912-1e94479dc24a"
      },
      "source": [
        "sns.displot(customers, x = 'Grocery', col='Region', row= 'Channel');"
      ],
      "execution_count": 48,
      "outputs": [
        {
          "output_type": "display_data",
          "data": {
            "image/png": "[encoded data removed]",
            "text/plain": [
              "<Figure size 1080x720 with 6 Axes>"
            ]
          },
          "metadata": {
            "tags": [],
            "needs_background": "light"
          }
        }
      ]
    },
    {
      "cell_type": "code",
      "metadata": {
        "id": "0EXi5pf71nAj",
        "outputId": "149e9eec-acce-4661-e3b8-24295d3e6576",
        "colab": {
          "base_uri": "https://localhost:8080/",
          "height": 279
        }
      },
      "source": [
        "\n",
        "sns.boxplot(x=\"Region\", y=\"Fresh\",\n",
        "            hue=\"Channel\", palette=[\"m\", \"g\"],\n",
        "            data=customers);"
      ],
      "execution_count": 49,
      "outputs": [
        {
          "output_type": "display_data",
          "data": {
            "image/png": "[encoded data removed]",
            "text/plain": [
              "<Figure size 432x288 with 1 Axes>"
            ]
          },
          "metadata": {
            "tags": [],
            "needs_background": "light"
          }
        }
      ]
    },
    {
      "cell_type": "code",
      "metadata": {
        "id": "9NJun-pU1m9q",
        "outputId": "e8a05184-6012-4852-88ef-35fc8f35d028",
        "colab": {
          "base_uri": "https://localhost:8080/",
          "height": 279
        }
      },
      "source": [
        "sns.boxplot(x=\"Region\", y=\"Milk\",\n",
        "            hue=\"Channel\", palette=[\"m\", \"g\"],\n",
        "            data=customers);"
      ],
      "execution_count": 50,
      "outputs": [
        {
          "output_type": "display_data",
          "data": {
            "image/png": "[encoded data removed]",
            "text/plain": [
              "<Figure size 432x288 with 1 Axes>"
            ]
          },
          "metadata": {
            "tags": [],
            "needs_background": "light"
          }
        }
      ]
    },
    {
      "cell_type": "code",
      "metadata": {
        "id": "Oopii0T_1sKM",
        "outputId": "e12588a4-71e0-4039-bf78-fc73c32a6586",
        "colab": {
          "base_uri": "https://localhost:8080/",
          "height": 279
        }
      },
      "source": [
        "sns.boxplot(x=\"Region\", y=\"Grocery\",\n",
        "            hue=\"Channel\", palette=[\"m\", \"g\"],\n",
        "            data=customers);"
      ],
      "execution_count": 51,
      "outputs": [
        {
          "output_type": "display_data",
          "data": {
            "image/png": "[encoded data removed]",
            "text/plain": [
              "<Figure size 432x288 with 1 Axes>"
            ]
          },
          "metadata": {
            "tags": [],
            "needs_background": "light"
          }
        }
      ]
    },
    {
      "cell_type": "code",
      "metadata": {
        "id": "ymXIpdbm1m6x"
      },
      "source": [
        ""
      ],
      "execution_count": 51,
      "outputs": []
    },
    {
      "cell_type": "code",
      "metadata": {
        "id": "EPvL5H7AmIE4"
      },
      "source": [
        "# Your observations here"
      ],
      "execution_count": 52,
      "outputs": []
    },
    {
      "cell_type": "markdown",
      "metadata": {
        "id": "WPqwran8mIE5"
      },
      "source": [
        "# Challenge 2 - Data Cleaning and Transformation\n",
        "\n",
        "If your conclusion from the previous challenge is the data need cleaning/transformation, do it in the cells below. However, if your conclusion is the data need not be cleaned or transformed, feel free to skip this challenge. But if you do choose the latter, please provide rationale."
      ]
    },
    {
      "cell_type": "code",
      "metadata": {
        "id": "ocaq0TnNmIE5"
      },
      "source": [
        "# Your code here\n",
        "\n",
        "customers.drop('Region', axis = 1, inplace = True) # because it could make noise to our clustering model"
      ],
      "execution_count": 53,
      "outputs": []
    },
    {
      "cell_type": "code",
      "metadata": {
        "id": "vCxaeRBZmIE5"
      },
      "source": [
        "# Your comment here"
      ],
      "execution_count": 54,
      "outputs": []
    },
    {
      "cell_type": "markdown",
      "metadata": {
        "id": "UR378GArmIE5"
      },
      "source": [
        "# Challenge 3 - Data Preprocessing\n",
        "\n",
        "One problem with the dataset is the value ranges are remarkably different across various categories (e.g. `Fresh` and `Grocery` compared to `Detergents_Paper` and `Delicassen`). If you made this observation in the first challenge, you've done a great job! This means you not only completed the bonus questions in the previous Supervised Learning lab but also researched deep into [*feature scaling*](https://en.wikipedia.org/wiki/Feature_scaling). Keep on the good work!\n",
        "\n",
        "Diverse value ranges in different features could cause issues in our clustering. The way to reduce the problem is through feature scaling. We'll use this technique again with this dataset.\n",
        "\n",
        "#### We will use the `StandardScaler` from `sklearn.preprocessing` and scale our data. Read more about `StandardScaler` [here](https://scikit-learn.org/stable/modules/generated/sklearn.preprocessing.StandardScaler.html#sklearn.preprocessing.StandardScaler).\n",
        "\n",
        "*After scaling your data, assign the transformed data to a new variable `customers_scale`.*"
      ]
    },
    {
      "cell_type": "code",
      "metadata": {
        "id": "R7UaqLK_mIE6"
      },
      "source": [
        "# Your import here:\n",
        "\n",
        "from sklearn.preprocessing import StandardScaler\n",
        "\n",
        "# Your code here:\n",
        "\n",
        "scaler = StandardScaler()\n",
        "\n",
        "customers_scale = scaler.fit_transform(customers)\n"
      ],
      "execution_count": 55,
      "outputs": []
    },
    {
      "cell_type": "markdown",
      "metadata": {
        "id": "1aGf5PCOmIE6"
      },
      "source": [
        "# Challenge 3 - Data Clustering with K-Means\n",
        "\n",
        "Now let's cluster the data with K-Means first. Initiate the K-Means model, then fit your scaled data. In the data returned from the `.fit` method, there is an attribute called `labels_` which is the cluster number assigned to each data record. What you can do is to assign these labels back to `customers` in a new column called `customers['labels']`. Then you'll see the cluster results of the original data."
      ]
    },
    {
      "cell_type": "code",
      "metadata": {
        "scrolled": true,
        "id": "TjM6PtS2mIE6"
      },
      "source": [
        "# Your code here:\n",
        "from sklearn.cluster import KMeans\n",
        "\n",
        "kmeans = KMeans()\n",
        "\n",
        "clusters = kmeans.fit(customers_scale)\n",
        "\n",
        "customers['Labels'] = clusters.labels_"
      ],
      "execution_count": 56,
      "outputs": []
    },
    {
      "cell_type": "markdown",
      "metadata": {
        "id": "5c5-IA5NmIE6"
      },
      "source": [
        "Count the values in `labels`."
      ]
    },
    {
      "cell_type": "code",
      "metadata": {
        "colab": {
          "base_uri": "https://localhost:8080/"
        },
        "id": "T7qPbcKVmIE7",
        "outputId": "d125ba5e-9d00-48d0-8e5b-5d77a8b7ad5e"
      },
      "source": [
        "# Your code here:\n",
        "customers['Labels'].value_counts()"
      ],
      "execution_count": 57,
      "outputs": [
        {
          "output_type": "execute_result",
          "data": {
            "text/plain": [
              "2    227\n",
              "0    103\n",
              "1     68\n",
              "7     30\n",
              "4      5\n",
              "5      4\n",
              "3      2\n",
              "6      1\n",
              "Name: Labels, dtype: int64"
            ]
          },
          "metadata": {
            "tags": []
          },
          "execution_count": 57
        }
      ]
    },
    {
      "cell_type": "markdown",
      "metadata": {
        "id": "ZFdbaGNNmIE7"
      },
      "source": [
        "# Challenge 4 - Data Clustering with DBSCAN\n",
        "\n",
        "Now let's cluster the data using DBSCAN. Use `DBSCAN(eps=0.5)` to initiate the model, then fit your scaled data. In the data returned from the `.fit` method, assign the `labels_` back to `customers['labels_DBSCAN']`. Now your original data have two labels, one from K-Means and the other from DBSCAN."
      ]
    },
    {
      "cell_type": "code",
      "metadata": {
        "scrolled": true,
        "id": "ETmupsesmIE7"
      },
      "source": [
        "# Your code here\n",
        "from sklearn.cluster import DBSCAN\n",
        "\n",
        "db = DBSCAN(eps = 0.5)\n",
        "\n",
        "db_clusters = db.fit(customers_scale)\n",
        "\n",
        "customers['Labels_DBSCAN'] = db_clusters.labels_"
      ],
      "execution_count": 58,
      "outputs": []
    },
    {
      "cell_type": "markdown",
      "metadata": {
        "id": "Q0HfVGEtmIE7"
      },
      "source": [
        "Count the values in `labels_DBSCAN`."
      ]
    },
    {
      "cell_type": "code",
      "metadata": {
        "colab": {
          "base_uri": "https://localhost:8080/"
        },
        "id": "HytrupkvmIE7",
        "outputId": "2240d5fa-82e4-4400-ed38-d5fbcc2c8449"
      },
      "source": [
        "# Your code here\n",
        "customers['Labels_DBSCAN'].value_counts()"
      ],
      "execution_count": 59,
      "outputs": [
        {
          "output_type": "execute_result",
          "data": {
            "text/plain": [
              " 1    201\n",
              "-1    194\n",
              " 0     32\n",
              " 3      8\n",
              " 2      5\n",
              "Name: Labels_DBSCAN, dtype: int64"
            ]
          },
          "metadata": {
            "tags": []
          },
          "execution_count": 59
        }
      ]
    },
    {
      "cell_type": "markdown",
      "metadata": {
        "id": "LtUsE4IMmIE8"
      },
      "source": [
        "# Challenge 5 - Compare K-Means with DBSCAN\n",
        "\n",
        "Now we want to visually compare how K-Means and DBSCAN have clustered our data. We will create scatter plots for several columns. For each of the following column pairs, plot a scatter plot using `labels` and another using `labels_DBSCAN`. Put them side by side to compare. Which clustering algorithm makes better sense?\n",
        "\n",
        "Columns to visualize:\n",
        "\n",
        "* `Detergents_Paper` as X and `Milk` as y\n",
        "* `Grocery` as X and `Fresh` as y\n",
        "* `Frozen` as X and `Delicassen` as y"
      ]
    },
    {
      "cell_type": "markdown",
      "metadata": {
        "id": "fUJod0almIE8"
      },
      "source": [
        "Visualize `Detergents_Paper` as X and `Milk` as y by `labels` and `labels_DBSCAN` respectively"
      ]
    },
    {
      "cell_type": "code",
      "metadata": {
        "colab": {
          "base_uri": "https://localhost:8080/",
          "height": 280
        },
        "id": "_TB5nM_pmIE8",
        "outputId": "8e748301-ba4d-4c1f-a593-e868eb1bc3dc"
      },
      "source": [
        "# Your code here:\n",
        "fig, axs = plt.subplots(1, 2, sharey=True)\n",
        "\n",
        "sns.scatterplot(x=\"Detergents_Paper\", y=\"Milk\", hue = \"Labels\",\n",
        "                sizes=(20,30),\n",
        "                data=customers, ax = axs[0]);\n",
        "\n",
        "sns.scatterplot(x=\"Detergents_Paper\", y=\"Milk\", hue = \"Labels_DBSCAN\",\n",
        "                sizes=(20, 30),\n",
        "                data=customers, ax = axs[1]);"
      ],
      "execution_count": 60,
      "outputs": [
        {
          "output_type": "display_data",
          "data": {
            "image/png": "[encoded data removed]",
            "text/plain": [
              "<Figure size 432x288 with 2 Axes>"
            ]
          },
          "metadata": {
            "tags": [],
            "needs_background": "light"
          }
        }
      ]
    },
    {
      "cell_type": "markdown",
      "metadata": {
        "id": "sbIrztREmIE8"
      },
      "source": [
        "Visualize `Grocery` as X and `Fresh` as y by `labels` and `labels_DBSCAN` respectively"
      ]
    },
    {
      "cell_type": "code",
      "metadata": {
        "colab": {
          "base_uri": "https://localhost:8080/",
          "height": 279
        },
        "id": "nwTBXwBLmIE9",
        "outputId": "c12e10bb-4d57-4c94-89bb-85c6c446fa33"
      },
      "source": [
        "\n",
        "# Your code here:\n",
        "\n",
        "fig, axs = plt.subplots(1, 2, sharey=True)\n",
        "\n",
        "sns.scatterplot(x=\"Grocery\", y=\"Fresh\", hue = \"Labels\",\n",
        "                sizes=(20,30),\n",
        "                data=customers, ax = axs[0]);\n",
        "\n",
        "sns.scatterplot(x=\"Grocery\", y=\"Fresh\", hue = \"Labels_DBSCAN\",\n",
        "                sizes=(20, 30),\n",
        "                data=customers, ax = axs[1]);\n"
      ],
      "execution_count": 61,
      "outputs": [
        {
          "output_type": "display_data",
          "data": {
            "image/png": "[encoded data removed]",
            "text/plain": [
              "<Figure size 432x288 with 2 Axes>"
            ]
          },
          "metadata": {
            "tags": [],
            "needs_background": "light"
          }
        }
      ]
    },
    {
      "cell_type": "markdown",
      "metadata": {
        "id": "Ma5XVhWAmIE9"
      },
      "source": [
        "Visualize `Frozen` as X and `Delicassen` as y by `labels` and `labels_DBSCAN` respectively"
      ]
    },
    {
      "cell_type": "code",
      "metadata": {
        "colab": {
          "base_uri": "https://localhost:8080/",
          "height": 282
        },
        "id": "ud6PMa3zmIE9",
        "outputId": "2bdc8f3f-d402-4c68-8d61-f5d9a8a77c4b"
      },
      "source": [
        "# Your code here:\n",
        "fig, axs = plt.subplots(1, 2, sharey=True)\n",
        "\n",
        "sns.scatterplot(x=\"Frozen\", y=\"Delicassen\", hue = \"Labels\",\n",
        "                sizes=(20,30),\n",
        "                data=customers, ax = axs[0]);\n",
        "\n",
        "sns.scatterplot(x=\"Frozen\", y=\"Delicassen\", hue = \"Labels_DBSCAN\",\n",
        "                sizes=(20, 30),\n",
        "                data=customers, ax = axs[1]);"
      ],
      "execution_count": 62,
      "outputs": [
        {
          "output_type": "display_data",
          "data": {
            "image/png": "[encoded data removed]",
            "text/plain": [
              "<Figure size 432x288 with 2 Axes>"
            ]
          },
          "metadata": {
            "tags": [],
            "needs_background": "light"
          }
        }
      ]
    },
    {
      "cell_type": "markdown",
      "metadata": {
        "id": "Dy2ln2jGmIE9"
      },
      "source": [
        "Let's use a groupby to see how the mean differs between the groups. Group `customers` by `labels` and `labels_DBSCAN` respectively and compute the means for all columns."
      ]
    },
    {
      "cell_type": "code",
      "metadata": {
        "colab": {
          "base_uri": "https://localhost:8080/",
          "height": 328
        },
        "id": "kuAUszO4mIE9",
        "outputId": "02ebb051-d1f4-46b7-fb85-0fa89bf6af5f"
      },
      "source": [
        "# Your code here:\n",
        "customers.groupby(['Labels']).mean()"
      ],
      "execution_count": 63,
      "outputs": [
        {
          "output_type": "execute_result",
          "data": {
            "text/html": [
              "<div>\n",
              "<style scoped>\n",
              "    .dataframe tbody tr th:only-of-type {\n",
              "        vertical-align: middle;\n",
              "    }\n",
              "\n",
              "    .dataframe tbody tr th {\n",
              "        vertical-align: top;\n",
              "    }\n",
              "\n",
              "    .dataframe thead th {\n",
              "        text-align: right;\n",
              "    }\n",
              "</style>\n",
              "<table border=\"1\" class=\"dataframe\">\n",
              "  <thead>\n",
              "    <tr style=\"text-align: right;\">\n",
              "      <th></th>\n",
              "      <th>Channel</th>\n",
              "      <th>Fresh</th>\n",
              "      <th>Milk</th>\n",
              "      <th>Grocery</th>\n",
              "      <th>Frozen</th>\n",
              "      <th>Detergents_Paper</th>\n",
              "      <th>Delicassen</th>\n",
              "      <th>Labels_DBSCAN</th>\n",
              "    </tr>\n",
              "    <tr>\n",
              "      <th>Labels</th>\n",
              "      <th></th>\n",
              "      <th></th>\n",
              "      <th></th>\n",
              "      <th></th>\n",
              "      <th></th>\n",
              "      <th></th>\n",
              "      <th></th>\n",
              "      <th></th>\n",
              "    </tr>\n",
              "  </thead>\n",
              "  <tbody>\n",
              "    <tr>\n",
              "      <th>0</th>\n",
              "      <td>2.000000</td>\n",
              "      <td>8213.873786</td>\n",
              "      <td>7512.980583</td>\n",
              "      <td>11559.097087</td>\n",
              "      <td>1467.708738</td>\n",
              "      <td>4753.368932</td>\n",
              "      <td>1473.776699</td>\n",
              "      <td>-0.378641</td>\n",
              "    </tr>\n",
              "    <tr>\n",
              "      <th>1</th>\n",
              "      <td>1.044118</td>\n",
              "      <td>30415.250000</td>\n",
              "      <td>3910.191176</td>\n",
              "      <td>4358.397059</td>\n",
              "      <td>6489.647059</td>\n",
              "      <td>553.308824</td>\n",
              "      <td>1691.544118</td>\n",
              "      <td>-0.250000</td>\n",
              "    </tr>\n",
              "    <tr>\n",
              "      <th>2</th>\n",
              "      <td>1.000000</td>\n",
              "      <td>7885.982379</td>\n",
              "      <td>2959.325991</td>\n",
              "      <td>3589.229075</td>\n",
              "      <td>2327.295154</td>\n",
              "      <td>833.136564</td>\n",
              "      <td>970.511013</td>\n",
              "      <td>0.612335</td>\n",
              "    </tr>\n",
              "    <tr>\n",
              "      <th>3</th>\n",
              "      <td>1.000000</td>\n",
              "      <td>22015.500000</td>\n",
              "      <td>9937.000000</td>\n",
              "      <td>7844.000000</td>\n",
              "      <td>47939.000000</td>\n",
              "      <td>671.500000</td>\n",
              "      <td>4153.500000</td>\n",
              "      <td>-1.000000</td>\n",
              "    </tr>\n",
              "    <tr>\n",
              "      <th>4</th>\n",
              "      <td>2.000000</td>\n",
              "      <td>25603.000000</td>\n",
              "      <td>43460.600000</td>\n",
              "      <td>61472.200000</td>\n",
              "      <td>2636.000000</td>\n",
              "      <td>29974.200000</td>\n",
              "      <td>2708.800000</td>\n",
              "      <td>-1.000000</td>\n",
              "    </tr>\n",
              "    <tr>\n",
              "      <th>5</th>\n",
              "      <td>1.250000</td>\n",
              "      <td>50020.000000</td>\n",
              "      <td>18085.250000</td>\n",
              "      <td>17331.500000</td>\n",
              "      <td>8396.000000</td>\n",
              "      <td>3759.250000</td>\n",
              "      <td>13474.000000</td>\n",
              "      <td>-1.000000</td>\n",
              "    </tr>\n",
              "    <tr>\n",
              "      <th>6</th>\n",
              "      <td>1.000000</td>\n",
              "      <td>36847.000000</td>\n",
              "      <td>43950.000000</td>\n",
              "      <td>20170.000000</td>\n",
              "      <td>36534.000000</td>\n",
              "      <td>239.000000</td>\n",
              "      <td>47943.000000</td>\n",
              "      <td>-1.000000</td>\n",
              "    </tr>\n",
              "    <tr>\n",
              "      <th>7</th>\n",
              "      <td>2.000000</td>\n",
              "      <td>5559.133333</td>\n",
              "      <td>16179.733333</td>\n",
              "      <td>26143.466667</td>\n",
              "      <td>1723.600000</td>\n",
              "      <td>12834.100000</td>\n",
              "      <td>2004.100000</td>\n",
              "      <td>-1.000000</td>\n",
              "    </tr>\n",
              "  </tbody>\n",
              "</table>\n",
              "</div>"
            ],
            "text/plain": [
              "         Channel         Fresh  ...    Delicassen  Labels_DBSCAN\n",
              "Labels                          ...                             \n",
              "0       2.000000   8213.873786  ...   1473.776699      -0.378641\n",
              "1       1.044118  30415.250000  ...   1691.544118      -0.250000\n",
              "2       1.000000   7885.982379  ...    970.511013       0.612335\n",
              "3       1.000000  22015.500000  ...   4153.500000      -1.000000\n",
              "4       2.000000  25603.000000  ...   2708.800000      -1.000000\n",
              "5       1.250000  50020.000000  ...  13474.000000      -1.000000\n",
              "6       1.000000  36847.000000  ...  47943.000000      -1.000000\n",
              "7       2.000000   5559.133333  ...   2004.100000      -1.000000\n",
              "\n",
              "[8 rows x 8 columns]"
            ]
          },
          "metadata": {
            "tags": []
          },
          "execution_count": 63
        }
      ]
    },
    {
      "cell_type": "code",
      "metadata": {
        "colab": {
          "base_uri": "https://localhost:8080/",
          "height": 235
        },
        "id": "_3j-twzKoJZO",
        "outputId": "78969dec-7fe6-46c3-dc85-ce02c229b7d0"
      },
      "source": [
        "customers.groupby(['Labels_DBSCAN']).mean()"
      ],
      "execution_count": 64,
      "outputs": [
        {
          "output_type": "execute_result",
          "data": {
            "text/html": [
              "<div>\n",
              "<style scoped>\n",
              "    .dataframe tbody tr th:only-of-type {\n",
              "        vertical-align: middle;\n",
              "    }\n",
              "\n",
              "    .dataframe tbody tr th {\n",
              "        vertical-align: top;\n",
              "    }\n",
              "\n",
              "    .dataframe thead th {\n",
              "        text-align: right;\n",
              "    }\n",
              "</style>\n",
              "<table border=\"1\" class=\"dataframe\">\n",
              "  <thead>\n",
              "    <tr style=\"text-align: right;\">\n",
              "      <th></th>\n",
              "      <th>Channel</th>\n",
              "      <th>Fresh</th>\n",
              "      <th>Milk</th>\n",
              "      <th>Grocery</th>\n",
              "      <th>Frozen</th>\n",
              "      <th>Detergents_Paper</th>\n",
              "      <th>Delicassen</th>\n",
              "      <th>Labels</th>\n",
              "    </tr>\n",
              "    <tr>\n",
              "      <th>Labels_DBSCAN</th>\n",
              "      <th></th>\n",
              "      <th></th>\n",
              "      <th></th>\n",
              "      <th></th>\n",
              "      <th></th>\n",
              "      <th></th>\n",
              "      <th></th>\n",
              "      <th></th>\n",
              "    </tr>\n",
              "  </thead>\n",
              "  <tbody>\n",
              "    <tr>\n",
              "      <th>-1</th>\n",
              "      <td>1.525773</td>\n",
              "      <td>14873.912371</td>\n",
              "      <td>9560.984536</td>\n",
              "      <td>13221.046392</td>\n",
              "      <td>4408.881443</td>\n",
              "      <td>5068.613402</td>\n",
              "      <td>2398.324742</td>\n",
              "      <td>2.036082</td>\n",
              "    </tr>\n",
              "    <tr>\n",
              "      <th>0</th>\n",
              "      <td>2.000000</td>\n",
              "      <td>4838.500000</td>\n",
              "      <td>6644.593750</td>\n",
              "      <td>10277.156250</td>\n",
              "      <td>784.593750</td>\n",
              "      <td>4776.093750</td>\n",
              "      <td>1004.843750</td>\n",
              "      <td>0.000000</td>\n",
              "    </tr>\n",
              "    <tr>\n",
              "      <th>1</th>\n",
              "      <td>1.000000</td>\n",
              "      <td>9525.940299</td>\n",
              "      <td>2103.004975</td>\n",
              "      <td>2676.333333</td>\n",
              "      <td>2274.363184</td>\n",
              "      <td>542.094527</td>\n",
              "      <td>766.039801</td>\n",
              "      <td>1.910448</td>\n",
              "    </tr>\n",
              "    <tr>\n",
              "      <th>2</th>\n",
              "      <td>1.000000</td>\n",
              "      <td>41446.600000</td>\n",
              "      <td>1421.200000</td>\n",
              "      <td>2167.600000</td>\n",
              "      <td>1276.400000</td>\n",
              "      <td>416.200000</td>\n",
              "      <td>784.800000</td>\n",
              "      <td>1.000000</td>\n",
              "    </tr>\n",
              "    <tr>\n",
              "      <th>3</th>\n",
              "      <td>2.000000</td>\n",
              "      <td>14726.625000</td>\n",
              "      <td>6636.125000</td>\n",
              "      <td>7003.625000</td>\n",
              "      <td>961.375000</td>\n",
              "      <td>2583.625000</td>\n",
              "      <td>1951.875000</td>\n",
              "      <td>0.000000</td>\n",
              "    </tr>\n",
              "  </tbody>\n",
              "</table>\n",
              "</div>"
            ],
            "text/plain": [
              "                Channel         Fresh  ...   Delicassen    Labels\n",
              "Labels_DBSCAN                          ...                       \n",
              "-1             1.525773  14873.912371  ...  2398.324742  2.036082\n",
              " 0             2.000000   4838.500000  ...  1004.843750  0.000000\n",
              " 1             1.000000   9525.940299  ...   766.039801  1.910448\n",
              " 2             1.000000  41446.600000  ...   784.800000  1.000000\n",
              " 3             2.000000  14726.625000  ...  1951.875000  0.000000\n",
              "\n",
              "[5 rows x 8 columns]"
            ]
          },
          "metadata": {
            "tags": []
          },
          "execution_count": 64
        }
      ]
    },
    {
      "cell_type": "markdown",
      "metadata": {
        "id": "uM-BvYslmIE9"
      },
      "source": [
        "Which algorithm appears to perform better?"
      ]
    },
    {
      "cell_type": "code",
      "metadata": {
        "id": "4RxX6NklmIE-"
      },
      "source": [
        "# Your observations here\n",
        "#Kmeans performs better"
      ],
      "execution_count": 65,
      "outputs": []
    },
    {
      "cell_type": "code",
      "metadata": {
        "id": "jZtyeh2zon89"
      },
      "source": [
        ""
      ],
      "execution_count": null,
      "outputs": []
    },
    {
      "cell_type": "markdown",
      "metadata": {
        "id": "-j4ZSaIjmIE-"
      },
      "source": [
        "# Bonus Challenge 2 - Changing K-Means Number of Clusters\n",
        "\n",
        "As we mentioned earlier, we don't need to worry about the number of clusters with DBSCAN because it automatically decides that based on the parameters we send to it. But with K-Means, we have to supply the `n_clusters` param (if you don't supply `n_clusters`, the algorithm will use `8` by default). You need to know that the optimal number of clusters differs case by case based on the dataset. K-Means can perform badly if the wrong number of clusters is used.\n",
        "\n",
        "In advanced machine learning, data scientists try different numbers of clusters and evaluate the results with statistical measures (read [here](https://en.wikipedia.org/wiki/Cluster_analysis#External_evaluation)). We are not using statistical measures today but we'll use our eyes instead. In the cells below, experiment with different number of clusters and visualize with scatter plots. What number of clusters seems to work best for K-Means?"
      ]
    },
    {
      "cell_type": "code",
      "metadata": {
        "id": "O-MRrBLnmIE-"
      },
      "source": [
        "# Your code here"
      ],
      "execution_count": null,
      "outputs": []
    },
    {
      "cell_type": "code",
      "metadata": {
        "id": "7sYiJR9JmIE_"
      },
      "source": [
        "# Your comment here"
      ],
      "execution_count": null,
      "outputs": []
    },
    {
      "cell_type": "markdown",
      "metadata": {
        "id": "hKzVlqenmIE_"
      },
      "source": [
        "# Bonus Challenge 3 - Changing DBSCAN `eps` and `min_samples`\n",
        "\n",
        "Experiment changing the `eps` and `min_samples` params for DBSCAN. See how the results differ with scatter plot visualization."
      ]
    },
    {
      "cell_type": "code",
      "metadata": {
        "id": "Enjlf2GKmIE_"
      },
      "source": [
        "# Your code here"
      ],
      "execution_count": null,
      "outputs": []
    },
    {
      "cell_type": "code",
      "metadata": {
        "id": "Nof27iBqmIE_"
      },
      "source": [
        "# Your comment here"
      ],
      "execution_count": null,
      "outputs": []
    }
  ]
}